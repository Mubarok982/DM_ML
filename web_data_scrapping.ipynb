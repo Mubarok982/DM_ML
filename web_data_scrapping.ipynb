{
  "nbformat": 4,
  "nbformat_minor": 0,
  "metadata": {
    "colab": {
      "provenance": [],
      "authorship_tag": "ABX9TyMkiqzKucuT4FEvOceeqh7G",
      "include_colab_link": true
    },
    "kernelspec": {
      "name": "python3",
      "display_name": "Python 3"
    },
    "language_info": {
      "name": "python"
    }
  },
  "cells": [
    {
      "cell_type": "markdown",
      "metadata": {
        "id": "view-in-github",
        "colab_type": "text"
      },
      "source": [
        "<a href=\"https://colab.research.google.com/github/Mubarok982/DM_ML/blob/main/web_data_scrapping.ipynb\" target=\"_parent\"><img src=\"https://colab.research.google.com/assets/colab-badge.svg\" alt=\"Open In Colab\"/></a>"
      ]
    },
    {
      "cell_type": "code",
      "execution_count": 2,
      "metadata": {
        "colab": {
          "base_uri": "https://localhost:8080/"
        },
        "id": "ZxUlKRr4fR-t",
        "outputId": "0ffd183f-7410-41e9-bcdf-47ddd28d95b4"
      },
      "outputs": [
        {
          "output_type": "stream",
          "name": "stdout",
          "text": [
            "Requirement already satisfied: requests in /usr/local/lib/python3.11/dist-packages (2.32.3)\n",
            "Requirement already satisfied: beautifulsoup4 in /usr/local/lib/python3.11/dist-packages (4.13.4)\n",
            "Requirement already satisfied: pandas in /usr/local/lib/python3.11/dist-packages (2.2.2)\n",
            "Requirement already satisfied: charset-normalizer<4,>=2 in /usr/local/lib/python3.11/dist-packages (from requests) (3.4.2)\n",
            "Requirement already satisfied: idna<4,>=2.5 in /usr/local/lib/python3.11/dist-packages (from requests) (3.10)\n",
            "Requirement already satisfied: urllib3<3,>=1.21.1 in /usr/local/lib/python3.11/dist-packages (from requests) (2.4.0)\n",
            "Requirement already satisfied: certifi>=2017.4.17 in /usr/local/lib/python3.11/dist-packages (from requests) (2025.6.15)\n",
            "Requirement already satisfied: soupsieve>1.2 in /usr/local/lib/python3.11/dist-packages (from beautifulsoup4) (2.7)\n",
            "Requirement already satisfied: typing-extensions>=4.0.0 in /usr/local/lib/python3.11/dist-packages (from beautifulsoup4) (4.14.0)\n",
            "Requirement already satisfied: numpy>=1.23.2 in /usr/local/lib/python3.11/dist-packages (from pandas) (2.0.2)\n",
            "Requirement already satisfied: python-dateutil>=2.8.2 in /usr/local/lib/python3.11/dist-packages (from pandas) (2.9.0.post0)\n",
            "Requirement already satisfied: pytz>=2020.1 in /usr/local/lib/python3.11/dist-packages (from pandas) (2025.2)\n",
            "Requirement already satisfied: tzdata>=2022.7 in /usr/local/lib/python3.11/dist-packages (from pandas) (2025.2)\n",
            "Requirement already satisfied: six>=1.5 in /usr/local/lib/python3.11/dist-packages (from python-dateutil>=2.8.2->pandas) (1.17.0)\n"
          ]
        }
      ],
      "source": [
        "pip install requests beautifulsoup4 pandas\n"
      ]
    },
    {
      "cell_type": "code",
      "source": [
        "import requests\n",
        "from bs4 import BeautifulSoup\n",
        "import pandas as pd\n",
        "import csv\n",
        "\n",
        "response = requests.get('https://www.scrapethissite.com/pages/simple/')\n",
        "soup = BeautifulSoup(response.text, 'html.parser')\n",
        "\n",
        "country_block  = soup.find_all('div', class_='col-md-4 country')\n",
        "\n",
        "result = []\n",
        "for block in country_block:\n",
        "    name_element = block.find('h3', class_='country-name')\n",
        "    country_name = name_element.get_text(strip=True)\n",
        "\n",
        "    capital_element = block.find('span', class_='country-capital')\n",
        "    country_capital = capital_element.get_text(strip=True)\n",
        "\n",
        "    population_element = block.find('span', class_='country-population')\n",
        "    country_population = population_element.get_text(strip=True)\n",
        "\n",
        "    area_element = block.find('span', class_='country-area')\n",
        "    country_area = area_element.get_text(strip=True)\n",
        "\n",
        "    result.append({\n",
        "        'Country Name': country_name,\n",
        "        'Capital': country_capital,\n",
        "        'Population': country_population,\n",
        "        'Area': country_area\n",
        "    })\n",
        "\n",
        "\n",
        "with open('countries.csv', 'w', newline='', encoding='utf-8') as csvfile:\n",
        "    fieldnames = ['Country Name', 'Capital', 'Population', 'Area']\n",
        "    writer = csv.DictWriter(csvfile, fieldnames=fieldnames)\n",
        "\n",
        "    writer.writeheader()\n",
        "    writer.writerows(result)\n",
        "\n",
        "print(\"Data telah di save ke countries.csv\")\n"
      ],
      "metadata": {
        "colab": {
          "base_uri": "https://localhost:8080/"
        },
        "id": "THotYWqNRWpH",
        "outputId": "83da4499-6713-4765-ad52-ec52f03ad924"
      },
      "execution_count": 9,
      "outputs": [
        {
          "output_type": "stream",
          "name": "stdout",
          "text": [
            "Data telah di save ke countries.csv\n"
          ]
        }
      ]
    }
  ]
}