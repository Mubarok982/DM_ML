{
  "nbformat": 4,
  "nbformat_minor": 0,
  "metadata": {
    "colab": {
      "provenance": [],
      "authorship_tag": "ABX9TyPXPsiCc0/hjZx6zWOlt6qK",
      "include_colab_link": true
    },
    "kernelspec": {
      "name": "python3",
      "display_name": "Python 3"
    },
    "language_info": {
      "name": "python"
    }
  },
  "cells": [
    {
      "cell_type": "markdown",
      "metadata": {
        "id": "view-in-github",
        "colab_type": "text"
      },
      "source": [
        "<a href=\"https://colab.research.google.com/github/Mubarok982/DM_ML/blob/main/TUGAS_ML_Pertemuan6.ipynb\" target=\"_parent\"><img src=\"https://colab.research.google.com/assets/colab-badge.svg\" alt=\"Open In Colab\"/></a>"
      ]
    },
    {
      "cell_type": "markdown",
      "source": [
        "#1. Import Library"
      ],
      "metadata": {
        "id": "1QJ-hmCgifr3"
      }
    },
    {
      "cell_type": "code",
      "execution_count": 116,
      "metadata": {
        "id": "gBJqziebEQA3"
      },
      "outputs": [],
      "source": [
        "#Import Library\n",
        "import numpy as np\n",
        "import pandas as pd\n",
        "import matplotlib.pyplot as plt\n",
        "import seaborn as sns\n",
        "from sklearn.impute import SimpleImputer\n",
        "from sklearn.model_selection import train_test_split\n",
        "from sklearn.naive_bayes import GaussianNB\n",
        "from sklearn.metrics import confusion_matrix, accuracy_score, precision_score, recall_score, f1_score, classification_report"
      ]
    },
    {
      "cell_type": "markdown",
      "source": [
        "# 2. Load Dataset"
      ],
      "metadata": {
        "id": "ecApFJzCixgV"
      }
    },
    {
      "cell_type": "code",
      "source": [
        "#Load Dataset\n",
        "data = pd.read_csv('Customer_support_data.csv')\n",
        "data.head()"
      ],
      "metadata": {
        "id": "M6eHq5zIEdz1",
        "colab": {
          "base_uri": "https://localhost:8080/",
          "height": 539
        },
        "outputId": "028a838b-de17-49e3-8d86-a158d3c86c71"
      },
      "execution_count": 117,
      "outputs": [
        {
          "output_type": "stream",
          "name": "stderr",
          "text": [
            "/usr/local/lib/python3.11/dist-packages/google/colab/_dataframe_summarizer.py:88: UserWarning: Parsing dates in %d/%m/%Y %H:%M format when dayfirst=False (the default) was specified. Pass `dayfirst=True` or specify a format to silence this warning.\n",
            "  cast_date_col = pd.to_datetime(column, errors=\"coerce\")\n"
          ]
        },
        {
          "output_type": "execute_result",
          "data": {
            "text/plain": [
              "                              Unique id channel_name         category  \\\n",
              "0  7e9ae164-6a8b-4521-a2d4-58f7c9fff13f      Outcall  Product Queries   \n",
              "1  b07ec1b0-f376-43b6-86df-ec03da3b2e16      Outcall  Product Queries   \n",
              "2  200814dd-27c7-4149-ba2b-bd3af3092880      Inbound    Order Related   \n",
              "3  eb0d3e53-c1ca-42d3-8486-e42c8d622135      Inbound          Returns   \n",
              "4  ba903143-1e54-406c-b969-46c52f92e5df      Inbound     Cancellation   \n",
              "\n",
              "                   Sub-category Customer Remarks  \\\n",
              "0                Life Insurance              NaN   \n",
              "1  Product Specific Information              NaN   \n",
              "2             Installation/demo              NaN   \n",
              "3        Reverse Pickup Enquiry              NaN   \n",
              "4                    Not Needed              NaN   \n",
              "\n",
              "                               Order_id order_date_time Issue_reported at  \\\n",
              "0  c27c9bb4-fa36-4140-9f1f-21009254ffdb             NaN  01/08/2023 11:13   \n",
              "1  d406b0c7-ce17-4654-b9de-f08d421254bd             NaN  01/08/2023 12:52   \n",
              "2  c273368d-b961-44cb-beaf-62d6fd6c00d5             NaN  01/08/2023 20:16   \n",
              "3  5aed0059-55a4-4ec6-bb54-97942092020a             NaN  01/08/2023 20:56   \n",
              "4  e8bed5a9-6933-4aff-9dc6-ccefd7dcde59             NaN  01/08/2023 10:30   \n",
              "\n",
              "    issue_responded Survey_response_Date Customer_City Product_category  \\\n",
              "0  01/08/2023 11:47            01-Aug-23           NaN              NaN   \n",
              "1  01/08/2023 12:54            01-Aug-23           NaN              NaN   \n",
              "2  01/08/2023 20:38            01-Aug-23           NaN              NaN   \n",
              "3  01/08/2023 21:16            01-Aug-23           NaN              NaN   \n",
              "4  01/08/2023 10:32            01-Aug-23           NaN              NaN   \n",
              "\n",
              "   Item_price  connected_handling_time           Agent_name      Supervisor  \\\n",
              "0         NaN                      NaN     Richard Buchanan     Mason Gupta   \n",
              "1         NaN                      NaN        Vicki Collins       Dylan Kim   \n",
              "2         NaN                      NaN         Duane Norman    Jackson Park   \n",
              "3         NaN                      NaN       Patrick Flores     Olivia Wang   \n",
              "4         NaN                      NaN  Christopher Sanchez  Austin Johnson   \n",
              "\n",
              "           Manager    Tenure Bucket Agent Shift  CSAT Score  \n",
              "0  Jennifer Nguyen  On Job Training     Morning           5  \n",
              "1      Michael Lee              >90     Morning           5  \n",
              "2      William Kim  On Job Training     Evening           5  \n",
              "3       John Smith              >90     Evening           5  \n",
              "4      Michael Lee             0-30     Morning           5  "
            ],
            "text/html": [
              "\n",
              "  <div id=\"df-1442f278-0d36-413d-9e17-cf272d443f54\" class=\"colab-df-container\">\n",
              "    <div>\n",
              "<style scoped>\n",
              "    .dataframe tbody tr th:only-of-type {\n",
              "        vertical-align: middle;\n",
              "    }\n",
              "\n",
              "    .dataframe tbody tr th {\n",
              "        vertical-align: top;\n",
              "    }\n",
              "\n",
              "    .dataframe thead th {\n",
              "        text-align: right;\n",
              "    }\n",
              "</style>\n",
              "<table border=\"1\" class=\"dataframe\">\n",
              "  <thead>\n",
              "    <tr style=\"text-align: right;\">\n",
              "      <th></th>\n",
              "      <th>Unique id</th>\n",
              "      <th>channel_name</th>\n",
              "      <th>category</th>\n",
              "      <th>Sub-category</th>\n",
              "      <th>Customer Remarks</th>\n",
              "      <th>Order_id</th>\n",
              "      <th>order_date_time</th>\n",
              "      <th>Issue_reported at</th>\n",
              "      <th>issue_responded</th>\n",
              "      <th>Survey_response_Date</th>\n",
              "      <th>Customer_City</th>\n",
              "      <th>Product_category</th>\n",
              "      <th>Item_price</th>\n",
              "      <th>connected_handling_time</th>\n",
              "      <th>Agent_name</th>\n",
              "      <th>Supervisor</th>\n",
              "      <th>Manager</th>\n",
              "      <th>Tenure Bucket</th>\n",
              "      <th>Agent Shift</th>\n",
              "      <th>CSAT Score</th>\n",
              "    </tr>\n",
              "  </thead>\n",
              "  <tbody>\n",
              "    <tr>\n",
              "      <th>0</th>\n",
              "      <td>7e9ae164-6a8b-4521-a2d4-58f7c9fff13f</td>\n",
              "      <td>Outcall</td>\n",
              "      <td>Product Queries</td>\n",
              "      <td>Life Insurance</td>\n",
              "      <td>NaN</td>\n",
              "      <td>c27c9bb4-fa36-4140-9f1f-21009254ffdb</td>\n",
              "      <td>NaN</td>\n",
              "      <td>01/08/2023 11:13</td>\n",
              "      <td>01/08/2023 11:47</td>\n",
              "      <td>01-Aug-23</td>\n",
              "      <td>NaN</td>\n",
              "      <td>NaN</td>\n",
              "      <td>NaN</td>\n",
              "      <td>NaN</td>\n",
              "      <td>Richard Buchanan</td>\n",
              "      <td>Mason Gupta</td>\n",
              "      <td>Jennifer Nguyen</td>\n",
              "      <td>On Job Training</td>\n",
              "      <td>Morning</td>\n",
              "      <td>5</td>\n",
              "    </tr>\n",
              "    <tr>\n",
              "      <th>1</th>\n",
              "      <td>b07ec1b0-f376-43b6-86df-ec03da3b2e16</td>\n",
              "      <td>Outcall</td>\n",
              "      <td>Product Queries</td>\n",
              "      <td>Product Specific Information</td>\n",
              "      <td>NaN</td>\n",
              "      <td>d406b0c7-ce17-4654-b9de-f08d421254bd</td>\n",
              "      <td>NaN</td>\n",
              "      <td>01/08/2023 12:52</td>\n",
              "      <td>01/08/2023 12:54</td>\n",
              "      <td>01-Aug-23</td>\n",
              "      <td>NaN</td>\n",
              "      <td>NaN</td>\n",
              "      <td>NaN</td>\n",
              "      <td>NaN</td>\n",
              "      <td>Vicki Collins</td>\n",
              "      <td>Dylan Kim</td>\n",
              "      <td>Michael Lee</td>\n",
              "      <td>&gt;90</td>\n",
              "      <td>Morning</td>\n",
              "      <td>5</td>\n",
              "    </tr>\n",
              "    <tr>\n",
              "      <th>2</th>\n",
              "      <td>200814dd-27c7-4149-ba2b-bd3af3092880</td>\n",
              "      <td>Inbound</td>\n",
              "      <td>Order Related</td>\n",
              "      <td>Installation/demo</td>\n",
              "      <td>NaN</td>\n",
              "      <td>c273368d-b961-44cb-beaf-62d6fd6c00d5</td>\n",
              "      <td>NaN</td>\n",
              "      <td>01/08/2023 20:16</td>\n",
              "      <td>01/08/2023 20:38</td>\n",
              "      <td>01-Aug-23</td>\n",
              "      <td>NaN</td>\n",
              "      <td>NaN</td>\n",
              "      <td>NaN</td>\n",
              "      <td>NaN</td>\n",
              "      <td>Duane Norman</td>\n",
              "      <td>Jackson Park</td>\n",
              "      <td>William Kim</td>\n",
              "      <td>On Job Training</td>\n",
              "      <td>Evening</td>\n",
              "      <td>5</td>\n",
              "    </tr>\n",
              "    <tr>\n",
              "      <th>3</th>\n",
              "      <td>eb0d3e53-c1ca-42d3-8486-e42c8d622135</td>\n",
              "      <td>Inbound</td>\n",
              "      <td>Returns</td>\n",
              "      <td>Reverse Pickup Enquiry</td>\n",
              "      <td>NaN</td>\n",
              "      <td>5aed0059-55a4-4ec6-bb54-97942092020a</td>\n",
              "      <td>NaN</td>\n",
              "      <td>01/08/2023 20:56</td>\n",
              "      <td>01/08/2023 21:16</td>\n",
              "      <td>01-Aug-23</td>\n",
              "      <td>NaN</td>\n",
              "      <td>NaN</td>\n",
              "      <td>NaN</td>\n",
              "      <td>NaN</td>\n",
              "      <td>Patrick Flores</td>\n",
              "      <td>Olivia Wang</td>\n",
              "      <td>John Smith</td>\n",
              "      <td>&gt;90</td>\n",
              "      <td>Evening</td>\n",
              "      <td>5</td>\n",
              "    </tr>\n",
              "    <tr>\n",
              "      <th>4</th>\n",
              "      <td>ba903143-1e54-406c-b969-46c52f92e5df</td>\n",
              "      <td>Inbound</td>\n",
              "      <td>Cancellation</td>\n",
              "      <td>Not Needed</td>\n",
              "      <td>NaN</td>\n",
              "      <td>e8bed5a9-6933-4aff-9dc6-ccefd7dcde59</td>\n",
              "      <td>NaN</td>\n",
              "      <td>01/08/2023 10:30</td>\n",
              "      <td>01/08/2023 10:32</td>\n",
              "      <td>01-Aug-23</td>\n",
              "      <td>NaN</td>\n",
              "      <td>NaN</td>\n",
              "      <td>NaN</td>\n",
              "      <td>NaN</td>\n",
              "      <td>Christopher Sanchez</td>\n",
              "      <td>Austin Johnson</td>\n",
              "      <td>Michael Lee</td>\n",
              "      <td>0-30</td>\n",
              "      <td>Morning</td>\n",
              "      <td>5</td>\n",
              "    </tr>\n",
              "  </tbody>\n",
              "</table>\n",
              "</div>\n",
              "    <div class=\"colab-df-buttons\">\n",
              "\n",
              "  <div class=\"colab-df-container\">\n",
              "    <button class=\"colab-df-convert\" onclick=\"convertToInteractive('df-1442f278-0d36-413d-9e17-cf272d443f54')\"\n",
              "            title=\"Convert this dataframe to an interactive table.\"\n",
              "            style=\"display:none;\">\n",
              "\n",
              "  <svg xmlns=\"http://www.w3.org/2000/svg\" height=\"24px\" viewBox=\"0 -960 960 960\">\n",
              "    <path d=\"M120-120v-720h720v720H120Zm60-500h600v-160H180v160Zm220 220h160v-160H400v160Zm0 220h160v-160H400v160ZM180-400h160v-160H180v160Zm440 0h160v-160H620v160ZM180-180h160v-160H180v160Zm440 0h160v-160H620v160Z\"/>\n",
              "  </svg>\n",
              "    </button>\n",
              "\n",
              "  <style>\n",
              "    .colab-df-container {\n",
              "      display:flex;\n",
              "      gap: 12px;\n",
              "    }\n",
              "\n",
              "    .colab-df-convert {\n",
              "      background-color: #E8F0FE;\n",
              "      border: none;\n",
              "      border-radius: 50%;\n",
              "      cursor: pointer;\n",
              "      display: none;\n",
              "      fill: #1967D2;\n",
              "      height: 32px;\n",
              "      padding: 0 0 0 0;\n",
              "      width: 32px;\n",
              "    }\n",
              "\n",
              "    .colab-df-convert:hover {\n",
              "      background-color: #E2EBFA;\n",
              "      box-shadow: 0px 1px 2px rgba(60, 64, 67, 0.3), 0px 1px 3px 1px rgba(60, 64, 67, 0.15);\n",
              "      fill: #174EA6;\n",
              "    }\n",
              "\n",
              "    .colab-df-buttons div {\n",
              "      margin-bottom: 4px;\n",
              "    }\n",
              "\n",
              "    [theme=dark] .colab-df-convert {\n",
              "      background-color: #3B4455;\n",
              "      fill: #D2E3FC;\n",
              "    }\n",
              "\n",
              "    [theme=dark] .colab-df-convert:hover {\n",
              "      background-color: #434B5C;\n",
              "      box-shadow: 0px 1px 3px 1px rgba(0, 0, 0, 0.15);\n",
              "      filter: drop-shadow(0px 1px 2px rgba(0, 0, 0, 0.3));\n",
              "      fill: #FFFFFF;\n",
              "    }\n",
              "  </style>\n",
              "\n",
              "    <script>\n",
              "      const buttonEl =\n",
              "        document.querySelector('#df-1442f278-0d36-413d-9e17-cf272d443f54 button.colab-df-convert');\n",
              "      buttonEl.style.display =\n",
              "        google.colab.kernel.accessAllowed ? 'block' : 'none';\n",
              "\n",
              "      async function convertToInteractive(key) {\n",
              "        const element = document.querySelector('#df-1442f278-0d36-413d-9e17-cf272d443f54');\n",
              "        const dataTable =\n",
              "          await google.colab.kernel.invokeFunction('convertToInteractive',\n",
              "                                                    [key], {});\n",
              "        if (!dataTable) return;\n",
              "\n",
              "        const docLinkHtml = 'Like what you see? Visit the ' +\n",
              "          '<a target=\"_blank\" href=https://colab.research.google.com/notebooks/data_table.ipynb>data table notebook</a>'\n",
              "          + ' to learn more about interactive tables.';\n",
              "        element.innerHTML = '';\n",
              "        dataTable['output_type'] = 'display_data';\n",
              "        await google.colab.output.renderOutput(dataTable, element);\n",
              "        const docLink = document.createElement('div');\n",
              "        docLink.innerHTML = docLinkHtml;\n",
              "        element.appendChild(docLink);\n",
              "      }\n",
              "    </script>\n",
              "  </div>\n",
              "\n",
              "\n",
              "<div id=\"df-d2195842-59dd-4680-a5b1-e1417a9943de\">\n",
              "  <button class=\"colab-df-quickchart\" onclick=\"quickchart('df-d2195842-59dd-4680-a5b1-e1417a9943de')\"\n",
              "            title=\"Suggest charts\"\n",
              "            style=\"display:none;\">\n",
              "\n",
              "<svg xmlns=\"http://www.w3.org/2000/svg\" height=\"24px\"viewBox=\"0 0 24 24\"\n",
              "     width=\"24px\">\n",
              "    <g>\n",
              "        <path d=\"M19 3H5c-1.1 0-2 .9-2 2v14c0 1.1.9 2 2 2h14c1.1 0 2-.9 2-2V5c0-1.1-.9-2-2-2zM9 17H7v-7h2v7zm4 0h-2V7h2v10zm4 0h-2v-4h2v4z\"/>\n",
              "    </g>\n",
              "</svg>\n",
              "  </button>\n",
              "\n",
              "<style>\n",
              "  .colab-df-quickchart {\n",
              "      --bg-color: #E8F0FE;\n",
              "      --fill-color: #1967D2;\n",
              "      --hover-bg-color: #E2EBFA;\n",
              "      --hover-fill-color: #174EA6;\n",
              "      --disabled-fill-color: #AAA;\n",
              "      --disabled-bg-color: #DDD;\n",
              "  }\n",
              "\n",
              "  [theme=dark] .colab-df-quickchart {\n",
              "      --bg-color: #3B4455;\n",
              "      --fill-color: #D2E3FC;\n",
              "      --hover-bg-color: #434B5C;\n",
              "      --hover-fill-color: #FFFFFF;\n",
              "      --disabled-bg-color: #3B4455;\n",
              "      --disabled-fill-color: #666;\n",
              "  }\n",
              "\n",
              "  .colab-df-quickchart {\n",
              "    background-color: var(--bg-color);\n",
              "    border: none;\n",
              "    border-radius: 50%;\n",
              "    cursor: pointer;\n",
              "    display: none;\n",
              "    fill: var(--fill-color);\n",
              "    height: 32px;\n",
              "    padding: 0;\n",
              "    width: 32px;\n",
              "  }\n",
              "\n",
              "  .colab-df-quickchart:hover {\n",
              "    background-color: var(--hover-bg-color);\n",
              "    box-shadow: 0 1px 2px rgba(60, 64, 67, 0.3), 0 1px 3px 1px rgba(60, 64, 67, 0.15);\n",
              "    fill: var(--button-hover-fill-color);\n",
              "  }\n",
              "\n",
              "  .colab-df-quickchart-complete:disabled,\n",
              "  .colab-df-quickchart-complete:disabled:hover {\n",
              "    background-color: var(--disabled-bg-color);\n",
              "    fill: var(--disabled-fill-color);\n",
              "    box-shadow: none;\n",
              "  }\n",
              "\n",
              "  .colab-df-spinner {\n",
              "    border: 2px solid var(--fill-color);\n",
              "    border-color: transparent;\n",
              "    border-bottom-color: var(--fill-color);\n",
              "    animation:\n",
              "      spin 1s steps(1) infinite;\n",
              "  }\n",
              "\n",
              "  @keyframes spin {\n",
              "    0% {\n",
              "      border-color: transparent;\n",
              "      border-bottom-color: var(--fill-color);\n",
              "      border-left-color: var(--fill-color);\n",
              "    }\n",
              "    20% {\n",
              "      border-color: transparent;\n",
              "      border-left-color: var(--fill-color);\n",
              "      border-top-color: var(--fill-color);\n",
              "    }\n",
              "    30% {\n",
              "      border-color: transparent;\n",
              "      border-left-color: var(--fill-color);\n",
              "      border-top-color: var(--fill-color);\n",
              "      border-right-color: var(--fill-color);\n",
              "    }\n",
              "    40% {\n",
              "      border-color: transparent;\n",
              "      border-right-color: var(--fill-color);\n",
              "      border-top-color: var(--fill-color);\n",
              "    }\n",
              "    60% {\n",
              "      border-color: transparent;\n",
              "      border-right-color: var(--fill-color);\n",
              "    }\n",
              "    80% {\n",
              "      border-color: transparent;\n",
              "      border-right-color: var(--fill-color);\n",
              "      border-bottom-color: var(--fill-color);\n",
              "    }\n",
              "    90% {\n",
              "      border-color: transparent;\n",
              "      border-bottom-color: var(--fill-color);\n",
              "    }\n",
              "  }\n",
              "</style>\n",
              "\n",
              "  <script>\n",
              "    async function quickchart(key) {\n",
              "      const quickchartButtonEl =\n",
              "        document.querySelector('#' + key + ' button');\n",
              "      quickchartButtonEl.disabled = true;  // To prevent multiple clicks.\n",
              "      quickchartButtonEl.classList.add('colab-df-spinner');\n",
              "      try {\n",
              "        const charts = await google.colab.kernel.invokeFunction(\n",
              "            'suggestCharts', [key], {});\n",
              "      } catch (error) {\n",
              "        console.error('Error during call to suggestCharts:', error);\n",
              "      }\n",
              "      quickchartButtonEl.classList.remove('colab-df-spinner');\n",
              "      quickchartButtonEl.classList.add('colab-df-quickchart-complete');\n",
              "    }\n",
              "    (() => {\n",
              "      let quickchartButtonEl =\n",
              "        document.querySelector('#df-d2195842-59dd-4680-a5b1-e1417a9943de button');\n",
              "      quickchartButtonEl.style.display =\n",
              "        google.colab.kernel.accessAllowed ? 'block' : 'none';\n",
              "    })();\n",
              "  </script>\n",
              "</div>\n",
              "\n",
              "    </div>\n",
              "  </div>\n"
            ],
            "application/vnd.google.colaboratory.intrinsic+json": {
              "type": "dataframe",
              "variable_name": "data",
              "summary": "{\n  \"name\": \"data\",\n  \"rows\": 85907,\n  \"fields\": [\n    {\n      \"column\": \"Unique id\",\n      \"properties\": {\n        \"dtype\": \"string\",\n        \"num_unique_values\": 85907,\n        \"samples\": [\n          \"fc42f862-7521-472c-b569-8bce866ebe8c\",\n          \"a7bb8900-a120-430f-b573-55ed6c16faab\",\n          \"b697f809-0d10-4839-9ccd-152ab6a179f4\"\n        ],\n        \"semantic_type\": \"\",\n        \"description\": \"\"\n      }\n    },\n    {\n      \"column\": \"channel_name\",\n      \"properties\": {\n        \"dtype\": \"category\",\n        \"num_unique_values\": 3,\n        \"samples\": [\n          \"Outcall\",\n          \"Inbound\",\n          \"Email\"\n        ],\n        \"semantic_type\": \"\",\n        \"description\": \"\"\n      }\n    },\n    {\n      \"column\": \"category\",\n      \"properties\": {\n        \"dtype\": \"category\",\n        \"num_unique_values\": 12,\n        \"samples\": [\n          \"Others\",\n          \"Onboarding related\",\n          \"Product Queries\"\n        ],\n        \"semantic_type\": \"\",\n        \"description\": \"\"\n      }\n    },\n    {\n      \"column\": \"Sub-category\",\n      \"properties\": {\n        \"dtype\": \"category\",\n        \"num_unique_values\": 57,\n        \"samples\": [\n          \"Life Insurance\",\n          \"Fraudulent User\",\n          \"Card/EMI\"\n        ],\n        \"semantic_type\": \"\",\n        \"description\": \"\"\n      }\n    },\n    {\n      \"column\": \"Customer Remarks\",\n      \"properties\": {\n        \"dtype\": \"category\",\n        \"num_unique_values\": 18231,\n        \"samples\": [\n          \"Interaction in telephonically is good experience she talk very nyc n solve my problem thanx dear\",\n          \"I am happy with the support received.\",\n          \"Please remove your Shopzilla vendor from your service \"\n        ],\n        \"semantic_type\": \"\",\n        \"description\": \"\"\n      }\n    },\n    {\n      \"column\": \"Order_id\",\n      \"properties\": {\n        \"dtype\": \"string\",\n        \"num_unique_values\": 67675,\n        \"samples\": [\n          \"414c0688-adaf-4123-b342-e8bd2c050638\",\n          \"110cba2e-b988-40b8-9967-716c8d6e7a71\",\n          \"0058ad82-75ed-4253-821b-86553937658b\"\n        ],\n        \"semantic_type\": \"\",\n        \"description\": \"\"\n      }\n    },\n    {\n      \"column\": \"order_date_time\",\n      \"properties\": {\n        \"dtype\": \"date\",\n        \"min\": \"2022-01-16 13:15:00\",\n        \"max\": \"2023-12-08 23:36:00\",\n        \"num_unique_values\": 13766,\n        \"samples\": [\n          \"27/06/2023 08:27\",\n          \"09/08/2023 06:19\",\n          \"28/07/2023 19:02\"\n        ],\n        \"semantic_type\": \"\",\n        \"description\": \"\"\n      }\n    },\n    {\n      \"column\": \"Issue_reported at\",\n      \"properties\": {\n        \"dtype\": \"category\",\n        \"num_unique_values\": 30923,\n        \"samples\": [\n          \"26/08/2023 17:45\",\n          \"11/08/2023 01:02\",\n          \"25/08/2023 22:00\"\n        ],\n        \"semantic_type\": \"\",\n        \"description\": \"\"\n      }\n    },\n    {\n      \"column\": \"issue_responded\",\n      \"properties\": {\n        \"dtype\": \"category\",\n        \"num_unique_values\": 30262,\n        \"samples\": [\n          \"11/08/2023 15:20\",\n          \"05/08/2023 23:43\",\n          \"06/08/2023 11:39\"\n        ],\n        \"semantic_type\": \"\",\n        \"description\": \"\"\n      }\n    },\n    {\n      \"column\": \"Survey_response_Date\",\n      \"properties\": {\n        \"dtype\": \"object\",\n        \"num_unique_values\": 31,\n        \"samples\": [\n          \"28-Aug-23\",\n          \"16-Aug-23\",\n          \"24-Aug-23\"\n        ],\n        \"semantic_type\": \"\",\n        \"description\": \"\"\n      }\n    },\n    {\n      \"column\": \"Customer_City\",\n      \"properties\": {\n        \"dtype\": \"category\",\n        \"num_unique_values\": 1782,\n        \"samples\": [\n          \"FEROZEPUR JHIRKA\",\n          \"NAMRUP\",\n          \"MUZAFFARPUR\"\n        ],\n        \"semantic_type\": \"\",\n        \"description\": \"\"\n      }\n    },\n    {\n      \"column\": \"Product_category\",\n      \"properties\": {\n        \"dtype\": \"category\",\n        \"num_unique_values\": 9,\n        \"samples\": [\n          \"GiftCard\",\n          \"Electronics\",\n          \"Home\"\n        ],\n        \"semantic_type\": \"\",\n        \"description\": \"\"\n      }\n    },\n    {\n      \"column\": \"Item_price\",\n      \"properties\": {\n        \"dtype\": \"number\",\n        \"std\": 12825.728411195778,\n        \"min\": 0.0,\n        \"max\": 164999.0,\n        \"num_unique_values\": 2789,\n        \"samples\": [\n          764.0,\n          1055.0,\n          2386.0\n        ],\n        \"semantic_type\": \"\",\n        \"description\": \"\"\n      }\n    },\n    {\n      \"column\": \"connected_handling_time\",\n      \"properties\": {\n        \"dtype\": \"number\",\n        \"std\": 246.29503712116792,\n        \"min\": 0.0,\n        \"max\": 1986.0,\n        \"num_unique_values\": 211,\n        \"samples\": [\n          777.0,\n          282.0,\n          815.0\n        ],\n        \"semantic_type\": \"\",\n        \"description\": \"\"\n      }\n    },\n    {\n      \"column\": \"Agent_name\",\n      \"properties\": {\n        \"dtype\": \"category\",\n        \"num_unique_values\": 1371,\n        \"samples\": [\n          \"Kimberly Morris\",\n          \"Russell Ramsey\",\n          \"Joshua Foster\"\n        ],\n        \"semantic_type\": \"\",\n        \"description\": \"\"\n      }\n    },\n    {\n      \"column\": \"Supervisor\",\n      \"properties\": {\n        \"dtype\": \"category\",\n        \"num_unique_values\": 40,\n        \"samples\": [\n          \"Madison Kim\",\n          \"Mia Patel\",\n          \"Logan Lee\"\n        ],\n        \"semantic_type\": \"\",\n        \"description\": \"\"\n      }\n    },\n    {\n      \"column\": \"Manager\",\n      \"properties\": {\n        \"dtype\": \"category\",\n        \"num_unique_values\": 6,\n        \"samples\": [\n          \"Jennifer Nguyen\",\n          \"Michael Lee\",\n          \"Emily Chen\"\n        ],\n        \"semantic_type\": \"\",\n        \"description\": \"\"\n      }\n    },\n    {\n      \"column\": \"Tenure Bucket\",\n      \"properties\": {\n        \"dtype\": \"category\",\n        \"num_unique_values\": 5,\n        \"samples\": [\n          \">90\",\n          \"61-90\",\n          \"0-30\"\n        ],\n        \"semantic_type\": \"\",\n        \"description\": \"\"\n      }\n    },\n    {\n      \"column\": \"Agent Shift\",\n      \"properties\": {\n        \"dtype\": \"category\",\n        \"num_unique_values\": 5,\n        \"samples\": [\n          \"Evening\",\n          \"Night\",\n          \"Split\"\n        ],\n        \"semantic_type\": \"\",\n        \"description\": \"\"\n      }\n    },\n    {\n      \"column\": \"CSAT Score\",\n      \"properties\": {\n        \"dtype\": \"number\",\n        \"std\": 1,\n        \"min\": 1,\n        \"max\": 5,\n        \"num_unique_values\": 5,\n        \"samples\": [\n          4,\n          2,\n          1\n        ],\n        \"semantic_type\": \"\",\n        \"description\": \"\"\n      }\n    }\n  ]\n}"
            }
          },
          "metadata": {},
          "execution_count": 117
        }
      ]
    },
    {
      "cell_type": "markdown",
      "source": [
        "# 3. Analisis Dataset"
      ],
      "metadata": {
        "id": "MzpXNEULjUrK"
      }
    },
    {
      "cell_type": "markdown",
      "source": [
        "## 3.1 Memahami struktur data"
      ],
      "metadata": {
        "id": "1kF3khJykmsT"
      }
    },
    {
      "cell_type": "code",
      "source": [
        "# Memahami Struktur Data\n",
        "print(\"\\n--- Struktur Data ---\")\n",
        "print(f\"Jumlah baris dan kolom: {data.shape}\")\n",
        "print(f\"Tipe data setiap kolom:\\n{data.dtypes}\")\n",
        "print(\"\\n--- Lima Baris Pertama ---\")\n",
        "print(data.head())"
      ],
      "metadata": {
        "colab": {
          "base_uri": "https://localhost:8080/"
        },
        "id": "gON6RkfWFmzC",
        "outputId": "a0db097a-05b5-4d38-cfb9-39ceb03d51fc"
      },
      "execution_count": 118,
      "outputs": [
        {
          "output_type": "stream",
          "name": "stdout",
          "text": [
            "\n",
            "--- Struktur Data ---\n",
            "Jumlah baris dan kolom: (85907, 20)\n",
            "Tipe data setiap kolom:\n",
            "Unique id                   object\n",
            "channel_name                object\n",
            "category                    object\n",
            "Sub-category                object\n",
            "Customer Remarks            object\n",
            "Order_id                    object\n",
            "order_date_time             object\n",
            "Issue_reported at           object\n",
            "issue_responded             object\n",
            "Survey_response_Date        object\n",
            "Customer_City               object\n",
            "Product_category            object\n",
            "Item_price                 float64\n",
            "connected_handling_time    float64\n",
            "Agent_name                  object\n",
            "Supervisor                  object\n",
            "Manager                     object\n",
            "Tenure Bucket               object\n",
            "Agent Shift                 object\n",
            "CSAT Score                   int64\n",
            "dtype: object\n",
            "\n",
            "--- Lima Baris Pertama ---\n",
            "                              Unique id channel_name         category  \\\n",
            "0  7e9ae164-6a8b-4521-a2d4-58f7c9fff13f      Outcall  Product Queries   \n",
            "1  b07ec1b0-f376-43b6-86df-ec03da3b2e16      Outcall  Product Queries   \n",
            "2  200814dd-27c7-4149-ba2b-bd3af3092880      Inbound    Order Related   \n",
            "3  eb0d3e53-c1ca-42d3-8486-e42c8d622135      Inbound          Returns   \n",
            "4  ba903143-1e54-406c-b969-46c52f92e5df      Inbound     Cancellation   \n",
            "\n",
            "                   Sub-category Customer Remarks  \\\n",
            "0                Life Insurance              NaN   \n",
            "1  Product Specific Information              NaN   \n",
            "2             Installation/demo              NaN   \n",
            "3        Reverse Pickup Enquiry              NaN   \n",
            "4                    Not Needed              NaN   \n",
            "\n",
            "                               Order_id order_date_time Issue_reported at  \\\n",
            "0  c27c9bb4-fa36-4140-9f1f-21009254ffdb             NaN  01/08/2023 11:13   \n",
            "1  d406b0c7-ce17-4654-b9de-f08d421254bd             NaN  01/08/2023 12:52   \n",
            "2  c273368d-b961-44cb-beaf-62d6fd6c00d5             NaN  01/08/2023 20:16   \n",
            "3  5aed0059-55a4-4ec6-bb54-97942092020a             NaN  01/08/2023 20:56   \n",
            "4  e8bed5a9-6933-4aff-9dc6-ccefd7dcde59             NaN  01/08/2023 10:30   \n",
            "\n",
            "    issue_responded Survey_response_Date Customer_City Product_category  \\\n",
            "0  01/08/2023 11:47            01-Aug-23           NaN              NaN   \n",
            "1  01/08/2023 12:54            01-Aug-23           NaN              NaN   \n",
            "2  01/08/2023 20:38            01-Aug-23           NaN              NaN   \n",
            "3  01/08/2023 21:16            01-Aug-23           NaN              NaN   \n",
            "4  01/08/2023 10:32            01-Aug-23           NaN              NaN   \n",
            "\n",
            "   Item_price  connected_handling_time           Agent_name      Supervisor  \\\n",
            "0         NaN                      NaN     Richard Buchanan     Mason Gupta   \n",
            "1         NaN                      NaN        Vicki Collins       Dylan Kim   \n",
            "2         NaN                      NaN         Duane Norman    Jackson Park   \n",
            "3         NaN                      NaN       Patrick Flores     Olivia Wang   \n",
            "4         NaN                      NaN  Christopher Sanchez  Austin Johnson   \n",
            "\n",
            "           Manager    Tenure Bucket Agent Shift  CSAT Score  \n",
            "0  Jennifer Nguyen  On Job Training     Morning           5  \n",
            "1      Michael Lee              >90     Morning           5  \n",
            "2      William Kim  On Job Training     Evening           5  \n",
            "3       John Smith              >90     Evening           5  \n",
            "4      Michael Lee             0-30     Morning           5  \n"
          ]
        }
      ]
    },
    {
      "cell_type": "markdown",
      "source": [
        "## 3.2 Menganalisis Data yang Hilang"
      ],
      "metadata": {
        "id": "rXLmE63fku3p"
      }
    },
    {
      "cell_type": "code",
      "source": [
        "# Menganalisis Data yang Hilang\n",
        "print(\"\\n--- Data yang Hilang ---\")\n",
        "missing_values = data.isnull().sum()\n",
        "missing_percentage = (missing_values / len(data)) * 100\n",
        "print(pd.DataFrame({'Jumlah Data Hilang': missing_values, 'Persentase': missing_percentage}))\n"
      ],
      "metadata": {
        "id": "VCbS5SpMICKc",
        "outputId": "86bc236b-416c-4edc-a879-a3482cef9994",
        "colab": {
          "base_uri": "https://localhost:8080/"
        }
      },
      "execution_count": 119,
      "outputs": [
        {
          "output_type": "stream",
          "name": "stdout",
          "text": [
            "\n",
            "--- Data yang Hilang ---\n",
            "                         Jumlah Data Hilang  Persentase\n",
            "Unique id                                 0    0.000000\n",
            "channel_name                              0    0.000000\n",
            "category                                  0    0.000000\n",
            "Sub-category                              0    0.000000\n",
            "Customer Remarks                      57165   66.542889\n",
            "Order_id                              18232   21.222950\n",
            "order_date_time                       68693   79.962052\n",
            "Issue_reported at                         0    0.000000\n",
            "issue_responded                           0    0.000000\n",
            "Survey_response_Date                      0    0.000000\n",
            "Customer_City                         68828   80.119199\n",
            "Product_category                      68711   79.983005\n",
            "Item_price                            68701   79.971364\n",
            "connected_handling_time               85665   99.718300\n",
            "Agent_name                                0    0.000000\n",
            "Supervisor                                0    0.000000\n",
            "Manager                                   0    0.000000\n",
            "Tenure Bucket                             0    0.000000\n",
            "Agent Shift                               0    0.000000\n",
            "CSAT Score                                0    0.000000\n"
          ]
        }
      ]
    },
    {
      "cell_type": "markdown",
      "source": [
        "## 3.3 Menangani data yang hilang"
      ],
      "metadata": {
        "id": "OD0C_nlDnmRK"
      }
    },
    {
      "cell_type": "code",
      "source": [
        "# 1. Menghapus kolom dengan data hilang sangat besar (>70%)\n",
        "kolom_dihapus = ['connected_handling_time', 'order_date_time', 'Product_category', 'Item_price']\n",
        "kolom_dihapus = [kolom for kolom in kolom_dihapus if kolom in data.columns]\n",
        "data = data.drop(columns=kolom_dihapus)\n",
        "\n",
        "# 2. Mengisi nilai hilangCustomer Remarks (kategorikal): ganti dengan 'Tidak Diketahui'\n",
        "data['Customer Remarks'] = data['Customer Remarks'].fillna('Tidak Diketahui')\n",
        "\n",
        "# 3.CSAT Score (numerik): ganti dengan median\n",
        "data['CSAT Score'] = data['CSAT Score'].fillna(data['CSAT Score'].median())\n",
        "\n",
        "# 4. Mengisi dengan forward fill untuk sisa kolom\n",
        "data = data.ffill()\n",
        "\n",
        "# 4. Menghapus baris yang memiliki lebih dari satu nilai yang hilang (jika masih ada)\n",
        "data = data.dropna(thresh=len(data.columns)-1)\n",
        "\n",
        "# 5. Menggunakan imputasi\n",
        "imputer = SimpleImputer(strategy='most_frequent')\n",
        "for col in data.columns:\n",
        "    if data[col].isnull().any():\n",
        "        data[[col]] = imputer.fit_transform(data[[col]])\n",
        "\n",
        "# 6. Menangani kolom waktu\n",
        "tanggal_kolom = ['Survey_response_Date', 'Issue_reported at', 'issue_responded']\n",
        "for kolom in tanggal_kolom:\n",
        "    data[kolom] = pd.to_datetime(data[kolom], errors='coerce')\n",
        "\n",
        "# 7. Verifikasi hasil\n",
        "print(\"--- Jumlah Nilai Hilang Setelah Penanganan ---\")\n",
        "print(data.isnull().sum())"
      ],
      "metadata": {
        "colab": {
          "base_uri": "https://localhost:8080/"
        },
        "id": "imKI4CgBhky2",
        "outputId": "c3c83819-81db-4a19-df0c-a012c98f2b51"
      },
      "execution_count": 120,
      "outputs": [
        {
          "output_type": "stream",
          "name": "stderr",
          "text": [
            "<ipython-input-120-88d34388a874>:27: UserWarning: Could not infer format, so each element will be parsed individually, falling back to `dateutil`. To ensure parsing is consistent and as-expected, please specify a format.\n",
            "  data[kolom] = pd.to_datetime(data[kolom], errors='coerce')\n"
          ]
        },
        {
          "output_type": "stream",
          "name": "stdout",
          "text": [
            "--- Jumlah Nilai Hilang Setelah Penanganan ---\n",
            "Unique id                   0\n",
            "channel_name                0\n",
            "category                    0\n",
            "Sub-category                0\n",
            "Customer Remarks            0\n",
            "Order_id                    0\n",
            "Issue_reported at       53933\n",
            "issue_responded         54022\n",
            "Survey_response_Date        0\n",
            "Customer_City               0\n",
            "Agent_name                  0\n",
            "Supervisor                  0\n",
            "Manager                     0\n",
            "Tenure Bucket               0\n",
            "Agent Shift                 0\n",
            "CSAT Score                  0\n",
            "dtype: int64\n"
          ]
        }
      ]
    },
    {
      "cell_type": "markdown",
      "source": [
        "# 3.4 Menghapus kolom numerik dan mengisi nilai kosong"
      ],
      "metadata": {
        "id": "IZz2ltdKotkX"
      }
    },
    {
      "cell_type": "code",
      "source": [
        "data = data.drop(columns=['Issue_reported at', 'issue_responded'])\n",
        "most_common_city = data['Customer_City'].mode()[0]\n",
        "data['Customer_City'] = data['Customer_City'].fillna(most_common_city)\n",
        "data.info()"
      ],
      "metadata": {
        "colab": {
          "base_uri": "https://localhost:8080/"
        },
        "id": "9zn5UZhhossc",
        "outputId": "2e6e50f2-a291-42f1-8095-9c18090dc429"
      },
      "execution_count": 121,
      "outputs": [
        {
          "output_type": "stream",
          "name": "stdout",
          "text": [
            "<class 'pandas.core.frame.DataFrame'>\n",
            "RangeIndex: 85907 entries, 0 to 85906\n",
            "Data columns (total 14 columns):\n",
            " #   Column                Non-Null Count  Dtype         \n",
            "---  ------                --------------  -----         \n",
            " 0   Unique id             85907 non-null  object        \n",
            " 1   channel_name          85907 non-null  object        \n",
            " 2   category              85907 non-null  object        \n",
            " 3   Sub-category          85907 non-null  object        \n",
            " 4   Customer Remarks      85907 non-null  object        \n",
            " 5   Order_id              85907 non-null  object        \n",
            " 6   Survey_response_Date  85907 non-null  datetime64[ns]\n",
            " 7   Customer_City         85907 non-null  object        \n",
            " 8   Agent_name            85907 non-null  object        \n",
            " 9   Supervisor            85907 non-null  object        \n",
            " 10  Manager               85907 non-null  object        \n",
            " 11  Tenure Bucket         85907 non-null  object        \n",
            " 12  Agent Shift           85907 non-null  object        \n",
            " 13  CSAT Score            85907 non-null  int64         \n",
            "dtypes: datetime64[ns](1), int64(1), object(12)\n",
            "memory usage: 9.2+ MB\n"
          ]
        }
      ]
    },
    {
      "cell_type": "markdown",
      "source": [
        "# 4. Encoding dan Modeling data Untuk naive bayes"
      ],
      "metadata": {
        "id": "lh2EEwc4rm0L"
      }
    },
    {
      "cell_type": "markdown",
      "source": [
        "## 4.1 a. Buat Kolom Label: CSAT_Label"
      ],
      "metadata": {
        "id": "I97kSQDvrykE"
      }
    },
    {
      "cell_type": "code",
      "source": [
        "data['CSAT_Label'] = data['CSAT Score'].apply(lambda x: 'Low' if x <= 3 else 'High')\n",
        "data.info()"
      ],
      "metadata": {
        "colab": {
          "base_uri": "https://localhost:8080/"
        },
        "id": "FfnHbfDbruNg",
        "outputId": "9a3abb1a-1728-44e1-a021-e5265375a888"
      },
      "execution_count": 122,
      "outputs": [
        {
          "output_type": "stream",
          "name": "stdout",
          "text": [
            "<class 'pandas.core.frame.DataFrame'>\n",
            "RangeIndex: 85907 entries, 0 to 85906\n",
            "Data columns (total 15 columns):\n",
            " #   Column                Non-Null Count  Dtype         \n",
            "---  ------                --------------  -----         \n",
            " 0   Unique id             85907 non-null  object        \n",
            " 1   channel_name          85907 non-null  object        \n",
            " 2   category              85907 non-null  object        \n",
            " 3   Sub-category          85907 non-null  object        \n",
            " 4   Customer Remarks      85907 non-null  object        \n",
            " 5   Order_id              85907 non-null  object        \n",
            " 6   Survey_response_Date  85907 non-null  datetime64[ns]\n",
            " 7   Customer_City         85907 non-null  object        \n",
            " 8   Agent_name            85907 non-null  object        \n",
            " 9   Supervisor            85907 non-null  object        \n",
            " 10  Manager               85907 non-null  object        \n",
            " 11  Tenure Bucket         85907 non-null  object        \n",
            " 12  Agent Shift           85907 non-null  object        \n",
            " 13  CSAT Score            85907 non-null  int64         \n",
            " 14  CSAT_Label            85907 non-null  object        \n",
            "dtypes: datetime64[ns](1), int64(1), object(13)\n",
            "memory usage: 9.8+ MB\n"
          ]
        }
      ]
    },
    {
      "cell_type": "markdown",
      "source": [
        "## 4.2 Encoding data kategorikal dengan one hot encoding"
      ],
      "metadata": {
        "id": "Htkhsu8MsFod"
      }
    },
    {
      "cell_type": "code",
      "source": [
        "fitur_kategori = [\n",
        "    'channel_name', 'category', 'Sub-category', 'Customer_City',\n",
        "    'Agent_name', 'Supervisor', 'Manager',\n",
        "    'Tenure Bucket', 'Agent Shift'\n",
        "]\n",
        "X = pd.get_dummies(data[fitur_kategori])\n",
        "y = data['CSAT_Label']\n",
        "data.info()"
      ],
      "metadata": {
        "colab": {
          "base_uri": "https://localhost:8080/"
        },
        "id": "umkF4k3XsFR0",
        "outputId": "49e98a75-449b-4daf-d0c2-dfdf762ae2d5"
      },
      "execution_count": 123,
      "outputs": [
        {
          "output_type": "stream",
          "name": "stdout",
          "text": [
            "<class 'pandas.core.frame.DataFrame'>\n",
            "RangeIndex: 85907 entries, 0 to 85906\n",
            "Data columns (total 15 columns):\n",
            " #   Column                Non-Null Count  Dtype         \n",
            "---  ------                --------------  -----         \n",
            " 0   Unique id             85907 non-null  object        \n",
            " 1   channel_name          85907 non-null  object        \n",
            " 2   category              85907 non-null  object        \n",
            " 3   Sub-category          85907 non-null  object        \n",
            " 4   Customer Remarks      85907 non-null  object        \n",
            " 5   Order_id              85907 non-null  object        \n",
            " 6   Survey_response_Date  85907 non-null  datetime64[ns]\n",
            " 7   Customer_City         85907 non-null  object        \n",
            " 8   Agent_name            85907 non-null  object        \n",
            " 9   Supervisor            85907 non-null  object        \n",
            " 10  Manager               85907 non-null  object        \n",
            " 11  Tenure Bucket         85907 non-null  object        \n",
            " 12  Agent Shift           85907 non-null  object        \n",
            " 13  CSAT Score            85907 non-null  int64         \n",
            " 14  CSAT_Label            85907 non-null  object        \n",
            "dtypes: datetime64[ns](1), int64(1), object(13)\n",
            "memory usage: 9.8+ MB\n"
          ]
        }
      ]
    },
    {
      "cell_type": "markdown",
      "source": [
        "# 5.Split data dan prediksi"
      ],
      "metadata": {
        "id": "Pbxy8uFBtHI6"
      }
    },
    {
      "cell_type": "code",
      "source": [
        "# Membagi data\n",
        "X_train, X_test, y_train, y_test = train_test_split(X, y, test_size=0.2, random_state=42)\n",
        "\n",
        "# Membuat dan melatih model Naive Bayes\n",
        "model = GaussianNB()\n",
        "model.fit(X_train, y_train)\n",
        "\n",
        "# Prediksi\n",
        "y_pred = model.predict(X_test)"
      ],
      "metadata": {
        "id": "kXtgg6FItMJ_"
      },
      "execution_count": 124,
      "outputs": []
    },
    {
      "cell_type": "markdown",
      "source": [
        "# 6. Evaluasi Model"
      ],
      "metadata": {
        "id": "KFWznD_etUg8"
      }
    },
    {
      "cell_type": "code",
      "source": [
        "# Confusion Matrix\n",
        "cm = confusion_matrix(y_test, y_pred)\n",
        "print(\"Confusion Matrix:\\n\", cm)\n",
        "\n",
        "# Accuracy\n",
        "acc = accuracy_score(y_test, y_pred)\n",
        "print(\"Accuracy:\", acc)\n",
        "\n",
        "# Precision\n",
        "prec = precision_score(y_test, y_pred, pos_label=\"High\")\n",
        "print(\"Precision (High as positive):\", prec)\n",
        "\n",
        "# Recall\n",
        "rec = recall_score(y_test, y_pred, pos_label=\"High\")\n",
        "print(\"Recall (High as positive):\", rec)\n",
        "\n",
        "# F1 Score\n",
        "f1 = f1_score(y_test, y_pred, pos_label=\"High\")\n",
        "print(\"F1 Score (High as positive):\", f1)\n",
        "\n",
        "# Report Lengkap\n",
        "print(\"\\nClassification Report:\\n\", classification_report(y_test, y_pred))\n"
      ],
      "metadata": {
        "colab": {
          "base_uri": "https://localhost:8080/"
        },
        "id": "ySGx9HsStR0w",
        "outputId": "505c9679-0896-427d-f57c-298664d2afe9"
      },
      "execution_count": 125,
      "outputs": [
        {
          "output_type": "stream",
          "name": "stdout",
          "text": [
            "Confusion Matrix:\n",
            " [[ 1099 13112]\n",
            " [  186  2785]]\n",
            "Accuracy: 0.2260505179839367\n",
            "Precision (High as positive): 0.8552529182879377\n",
            "Recall (High as positive): 0.07733445922172964\n",
            "F1 Score (High as positive): 0.14184305627258648\n",
            "\n",
            "Classification Report:\n",
            "               precision    recall  f1-score   support\n",
            "\n",
            "        High       0.86      0.08      0.14     14211\n",
            "         Low       0.18      0.94      0.30      2971\n",
            "\n",
            "    accuracy                           0.23     17182\n",
            "   macro avg       0.52      0.51      0.22     17182\n",
            "weighted avg       0.74      0.23      0.17     17182\n",
            "\n"
          ]
        }
      ]
    }
  ]
}